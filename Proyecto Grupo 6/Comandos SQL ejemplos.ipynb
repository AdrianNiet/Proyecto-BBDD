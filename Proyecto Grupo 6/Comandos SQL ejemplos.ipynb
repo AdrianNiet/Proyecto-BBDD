{
 "cells": [
  {
   "cell_type": "markdown",
   "metadata": {},
   "source": [
    "Aqui dejamos algunos comandos usados para testear la base de datos.\n",
    "\n",
    "SELECT * FROM public.cuerpo_docente\n",
    "ORDER BY docente_id ASC \n",
    "\n",
    "SELECT * FROM public.estudiantes\n",
    "ORDER BY email ASC \n",
    "\n",
    "SELECT * FROM public.vertical\n",
    "ORDER BY vertical_id ASC \n",
    "\n",
    "SELECT * FROM public.proyectos_ds\n",
    "ORDER BY email ASC LIMIT 100\n",
    "\n",
    "SELECT * FROM public.proyectos_fs\n",
    "ORDER BY email ASC LIMIT 100"
   ]
  },
  {
   "cell_type": "markdown",
   "metadata": {},
   "source": [
    "SELECT * FROM public.estudiantes\n",
    "WHERE vertical_id = 'DS_SEP'"
   ]
  },
  {
   "cell_type": "markdown",
   "metadata": {},
   "source": [
    "Una query mas avanzada para testear\n",
    "\n",
    "SELECT\n",
    "  e.nombre,\n",
    "  string_agg(cd.nombre, ', ') AS profesores\n",
    "FROM estudiantes e\n",
    "LEFT JOIN cuerpo_docente cd ON e.vertical_id = cd.vertical_id\n",
    "\n",
    "WHERE cd.rol = 'TA'\n",
    "GROUP BY e.nombre;"
   ]
  },
  {
   "cell_type": "markdown",
   "metadata": {},
   "source": [
    "Otro comando de testeo\n",
    "\n",
    "SELECT e.nombre,e.email, \n",
    "cd.docente_id,cd.rol, cd.nombre, \n",
    "v.vertical_id, v.campus, v.promocion,v.fecha_comienzo,\n",
    "--pds.proyecto_hlf\n",
    "pfs.Proyecto_react\n",
    "FROM public.estudiantes e\n",
    "INNER JOIN public.Proyectos_fs pfs ON pfs.email = e.email\n",
    "INNER JOIN public.cuerpo_docente cd on cd.vertical_id = e.vertical_id\n",
    "INNER JOIN public.vertical v on v.vertical_id = e.vertical_id\n",
    "WHERE pfs.proyecto_react = 'No Apto' and cd.rol='LI'\n",
    "--and cd.rol = 'TA'"
   ]
  },
  {
   "cell_type": "markdown",
   "metadata": {},
   "source": [
    "Este fue usado para probar la robustez de la base de datos.\n",
    "\n",
    "Basicamente queriamos ver como reaccionaba.\n",
    "\n",
    "SELECT e.nombre,e.email, \n",
    "cd.docente_id,cd.rol, cd.nombre, \n",
    "v.vertical_id, v.campus, v.promocion,v.fecha_comienzo,\n",
    "pds.proyecto_hlf\n",
    "FROM public.estudiantes e\n",
    "INNER JOIN public.proyectos_ds pds ON pds.email = e.email\n",
    "INNER JOIN public.cuerpo_docente cd on cd.vertical_id = e.vertical_id\n",
    "INNER JOIN public.vertical v on v.vertical_id = e.vertical_id\n",
    "WHERE pds.proyecto_hlf = 'No Apto' \n",
    "--and cd.rol='TA'\n",
    "--and cd.rol = 'TA'"
   ]
  }
 ],
 "metadata": {
  "kernelspec": {
   "display_name": "Python 3",
   "language": "python",
   "name": "python3"
  },
  "language_info": {
   "codemirror_mode": {
    "name": "ipython",
    "version": 3
   },
   "file_extension": ".py",
   "mimetype": "text/x-python",
   "name": "python",
   "nbconvert_exporter": "python",
   "pygments_lexer": "ipython3",
   "version": "3.11.5"
  }
 },
 "nbformat": 4,
 "nbformat_minor": 2
}
